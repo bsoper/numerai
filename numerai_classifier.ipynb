{
 "cells": [
  {
   "cell_type": "markdown",
   "metadata": {},
   "source": [
    "# Authors: Chris Canal, Ben Soper, and Nathan VanBenschoten\n",
    "\n",
    "To start, setup your conda environment by runing:\n",
    "\n",
    "> conda env create -f numerai_packages.yml\n",
    "\n",
    "> source activate numerai\n",
    "\n",
    "> jupyter notebook numerai_classifier.ipynb"
   ]
  },
  {
   "cell_type": "code",
   "execution_count": 1,
   "metadata": {},
   "outputs": [
    {
     "name": "stderr",
     "output_type": "stream",
     "text": [
      "/Users/chris/anaconda/envs/numerai/lib/python2.7/site-packages/sklearn/cross_validation.py:44: DeprecationWarning: This module was deprecated in version 0.18 in favor of the model_selection module into which all the refactored classes and functions are moved. Also note that the interface of the new CV iterators are different from that of this module. This module will be removed in 0.20.\n",
      "  \"This module will be removed in 0.20.\", DeprecationWarning)\n",
      "/Users/chris/anaconda/envs/numerai/lib/python2.7/site-packages/sklearn/grid_search.py:43: DeprecationWarning: This module was deprecated in version 0.18 in favor of the model_selection module into which all the refactored classes and functions are moved. This module will be removed in 0.20.\n",
      "  DeprecationWarning)\n"
     ]
    }
   ],
   "source": [
    "#import libraries\n",
    "import pandas as pd\n",
    "\n",
    "import numpy as np\n",
    "\n",
    "from sklearn import metrics, preprocessing, linear_model\n",
    "from sklearn.model_selection import train_test_split as tts\n",
    "from sklearn.linear_model import SGDClassifier as SGD\n",
    "from sklearn.metrics import log_loss as ll\n",
    "from sklearn.grid_search import GridSearchCV as GS\n",
    "from sklearn.metrics import make_scorer as MS\n",
    "\n",
    "# Set seed for reproducibility\n",
    "np.random.seed(0)"
   ]
  },
  {
   "cell_type": "code",
   "execution_count": 2,
   "metadata": {},
   "outputs": [
    {
     "name": "stdout",
     "output_type": "stream",
     "text": [
      "Loading data...\n"
     ]
    }
   ],
   "source": [
    "# Load the data from the CSV files\n",
    "\n",
    "print(\"Loading data...\")\n",
    "training_data = pd.read_csv('numerai_training_data.csv', header=0)\n",
    "prediction_data = pd.read_csv('numerai_tournament_data.csv', header=0)\n"
   ]
  },
  {
   "cell_type": "code",
   "execution_count": 3,
   "metadata": {
    "collapsed": true
   },
   "outputs": [],
   "source": [
    "# Transform the loaded CSV data into numpy arrays\n",
    "Y = training_data['target']\n",
    "X = training_data.drop('target', axis=1)\n",
    "t_id = prediction_data['t_id']\n",
    "x_prediction = prediction_data.drop('t_id', axis=1)\n",
    "\n",
    "#Split Data for Cross Validation\n",
    "x_train, x_test, y_train, y_test = tts(X,Y, test_size=0.15, random_state=0)"
   ]
  },
  {
   "cell_type": "code",
   "execution_count": 4,
   "metadata": {
    "collapsed": true
   },
   "outputs": [],
   "source": [
    "# Set up parameters for grids search with SGD\n",
    "parameters = {\n",
    "    \"loss\": [\"log\", \"modified_huber\"],\n",
    "    \"penalty\": [\"none\", \"l2\", \"l1\", \"elasticnet\"],\n",
    "    \"alpha\": [0.0001, 0.0003, 0.0009, 0.00003, 0.00001],\n",
    "    \"fit_intercept\": [True, False],\n",
    "    \"n_iter\": [5, 10],\n",
    "    \"verbose\":[1]\n",
    "}\n",
    "\n",
    "best_params = {\n",
    "   'alpha':[0.0002], 'average':[True], 'class_weight':[None, 'balanced'], 'epsilon':[ 0.03],\n",
    "   'eta0':[0.0], 'fit_intercept':[False], 'l1_ratio':[0.15],\n",
    "   'learning_rate':['optimal'], 'loss':['log'], 'n_iter':[5], 'n_jobs':[4],\n",
    "   'penalty':['l1'], 'power_t':[0.5], 'random_state':[None], 'shuffle':[True],\n",
    "   'verbose':[1], 'warm_start':[False]\n",
    "}\n",
    "\n",
    "# Create Scorer for GridSearch\n",
    "scorer = MS(ll, greater_is_better=False, needs_proba=True, needs_threshold=False)\n",
    "\n",
    "# Create Grid search object\n",
    "grid_obj = GS(SGD(), best_params, scoring=scorer)"
   ]
  },
  {
   "cell_type": "code",
   "execution_count": 5,
   "metadata": {
    "scrolled": false
   },
   "outputs": [
    {
     "name": "stdout",
     "output_type": "stream",
     "text": [
      "-- Epoch 1\n",
      "Norm: 221.05, NNZs: 4, Bias: 0.000000, T: 98511, Avg. loss: 0.956740\n",
      "Total training time: 0.07 seconds.\n",
      "-- Epoch 2\n",
      "Norm: 221.92, NNZs: 5, Bias: 0.000000, T: 197022, Avg. loss: 0.826448\n",
      "Total training time: 0.15 seconds.\n",
      "-- Epoch 3\n",
      "Norm: 222.20, NNZs: 6, Bias: 0.000000, T: 295533, Avg. loss: 0.782543\n",
      "Total training time: 0.22 seconds.\n",
      "-- Epoch 4\n",
      "Norm: 222.34, NNZs: 9, Bias: 0.000000, T: 394044, Avg. loss: 0.760576\n",
      "Total training time: 0.30 seconds.\n",
      "-- Epoch 5\n",
      "Norm: 222.42, NNZs: 8, Bias: 0.000000, T: 492555, Avg. loss: 0.747275\n",
      "Total training time: 0.40 seconds.\n",
      "-- Epoch 1\n",
      "Norm: 195.80, NNZs: 4, Bias: 0.000000, T: 98511, Avg. loss: 1.025701\n",
      "Total training time: 0.10 seconds.\n",
      "-- Epoch 2\n",
      "Norm: 196.82, NNZs: 4, Bias: 0.000000, T: 197022, Avg. loss: 0.860053\n",
      "Total training time: 0.20 seconds.\n",
      "-- Epoch 3\n",
      "Norm: 197.16, NNZs: 4, Bias: 0.000000, T: 295533, Avg. loss: 0.804679\n",
      "Total training time: 0.32 seconds.\n",
      "-- Epoch 4\n",
      "Norm: 197.32, NNZs: 6, Bias: 0.000000, T: 394044, Avg. loss: 0.776967\n",
      "Total training time: 0.41 seconds.\n",
      "-- Epoch 5\n",
      "Norm: 197.42, NNZs: 7, Bias: 0.000000, T: 492555, Avg. loss: 0.760361\n",
      "Total training time: 0.48 seconds.\n",
      "-- Epoch 1\n",
      "Norm: 217.12, NNZs: 8, Bias: 0.000000, T: 98512, Avg. loss: 0.964341\n",
      "Total training time: 0.10 seconds.\n",
      "-- Epoch 2\n",
      "Norm: 217.99, NNZs: 7, Bias: 0.000000, T: 197024, Avg. loss: 0.830191\n",
      "Total training time: 0.19 seconds.\n",
      "-- Epoch 3\n",
      "Norm: 218.27, NNZs: 8, Bias: 0.000000, T: 295536, Avg. loss: 0.785174\n",
      "Total training time: 0.29 seconds.\n",
      "-- Epoch 4\n",
      "Norm: 218.41, NNZs: 8, Bias: 0.000000, T: 394048, Avg. loss: 0.762480\n",
      "Total training time: 0.37 seconds.\n",
      "-- Epoch 5\n",
      "Norm: 218.50, NNZs: 9, Bias: 0.000000, T: 492560, Avg. loss: 0.748814\n",
      "Total training time: 0.45 seconds.\n",
      "-- Epoch 1\n",
      "Norm: 200.10, NNZs: 7, Bias: 0.000000, T: 98511, Avg. loss: 1.003483\n",
      "Total training time: 0.12 seconds.\n",
      "-- Epoch 2\n",
      "Norm: 201.04, NNZs: 6, Bias: 0.000000, T: 197022, Avg. loss: 0.849965\n",
      "Total training time: 0.19 seconds.\n",
      "-- Epoch 3\n",
      "Norm: 201.34, NNZs: 7, Bias: 0.000000, T: 295533, Avg. loss: 0.798445\n",
      "Total training time: 0.26 seconds.\n",
      "-- Epoch 4\n",
      "Norm: 201.49, NNZs: 8, Bias: 0.000000, T: 394044, Avg. loss: 0.772532\n",
      "Total training time: 0.33 seconds.\n",
      "-- Epoch 5\n",
      "Norm: 201.58, NNZs: 10, Bias: 0.000000, T: 492555, Avg. loss: 0.756877\n",
      "Total training time: 0.39 seconds.\n",
      "-- Epoch 1\n",
      "Norm: 214.76, NNZs: 6, Bias: 0.000000, T: 98511, Avg. loss: 0.972078\n",
      "Total training time: 0.08 seconds.\n",
      "-- Epoch 2\n",
      "Norm: 215.65, NNZs: 7, Bias: 0.000000, T: 197022, Avg. loss: 0.834095\n",
      "Total training time: 0.19 seconds.\n",
      "-- Epoch 3\n",
      "Norm: 215.94, NNZs: 5, Bias: 0.000000, T: 295533, Avg. loss: 0.787677\n",
      "Total training time: 0.29 seconds.\n",
      "-- Epoch 4\n",
      "Norm: 216.09, NNZs: 7, Bias: 0.000000, T: 394044, Avg. loss: 0.764279\n",
      "Total training time: 0.37 seconds.\n",
      "-- Epoch 5\n",
      "Norm: 216.18, NNZs: 7, Bias: 0.000000, T: 492555, Avg. loss: 0.750209\n",
      "Total training time: 0.46 seconds.\n",
      "-- Epoch 1\n",
      "Norm: 209.04, NNZs: 4, Bias: 0.000000, T: 98512, Avg. loss: 0.983629\n",
      "Total training time: 0.08 seconds.\n",
      "-- Epoch 2\n",
      "Norm: 209.98, NNZs: 5, Bias: 0.000000, T: 197024, Avg. loss: 0.839294\n",
      "Total training time: 0.15 seconds.\n",
      "-- Epoch 3\n",
      "Norm: 210.30, NNZs: 6, Bias: 0.000000, T: 295536, Avg. loss: 0.790795\n",
      "Total training time: 0.22 seconds.\n",
      "-- Epoch 4\n",
      "Norm: 210.45, NNZs: 6, Bias: 0.000000, T: 394048, Avg. loss: 0.766525\n",
      "Total training time: 0.28 seconds.\n",
      "-- Epoch 5\n",
      "Norm: 210.54, NNZs: 5, Bias: 0.000000, T: 492560, Avg. loss: 0.751910\n",
      "Total training time: 0.34 seconds.\n",
      "-- Epoch 1\n",
      "Norm: 203.76, NNZs: 4, Bias: 0.000000, T: 147767, Avg. loss: 0.900868\n",
      "Total training time: 0.15 seconds.\n",
      "-- Epoch 2\n",
      "Norm: 204.38, NNZs: 6, Bias: 0.000000, T: 295534, Avg. loss: 0.797971\n",
      "Total training time: 0.25 seconds.\n",
      "-- Epoch 3\n",
      "Norm: 204.58, NNZs: 9, Bias: 0.000000, T: 443301, Avg. loss: 0.763357\n",
      "Total training time: 0.38 seconds.\n",
      "-- Epoch 4\n",
      "Norm: 204.68, NNZs: 9, Bias: 0.000000, T: 591068, Avg. loss: 0.745957\n",
      "Total training time: 0.51 seconds.\n",
      "-- Epoch 5\n",
      "Norm: 204.74, NNZs: 9, Bias: 0.000000, T: 738835, Avg. loss: 0.735479\n",
      "Total training time: 0.62 seconds.\n",
      "SGDClassifier(alpha=0.0002, average=True, class_weight=None, epsilon=0.03,\n",
      "       eta0=0.0, fit_intercept=False, l1_ratio=0.15,\n",
      "       learning_rate='optimal', loss='log', n_iter=5, n_jobs=4,\n",
      "       penalty='l1', power_t=0.5, random_state=None, shuffle=True,\n",
      "       verbose=1, warm_start=False)\n"
     ]
    }
   ],
   "source": [
    "# Find the best parameters by runing gridsearch\n",
    "grid_fit = grid_obj.fit(x_train, y_train)\n",
    "best_model = grid_fit.best_estimator_\n",
    "print(best_model)"
   ]
  },
  {
   "cell_type": "code",
   "execution_count": 6,
   "metadata": {},
   "outputs": [
    {
     "name": "stdout",
     "output_type": "stream",
     "text": [
      "-- Epoch 1\n",
      "Norm: 215.67, NNZs: 5, Bias: 0.000000, T: 147767, Avg. loss: 0.877994\n",
      "Total training time: 0.11 seconds.\n",
      "-- Epoch 2\n",
      "Norm: 216.26, NNZs: 7, Bias: 0.000000, T: 295534, Avg. loss: 0.786530\n",
      "Total training time: 0.20 seconds.\n",
      "-- Epoch 3\n",
      "Norm: 216.45, NNZs: 8, Bias: 0.000000, T: 443301, Avg. loss: 0.755768\n",
      "Total training time: 0.31 seconds.\n",
      "-- Epoch 4\n",
      "Norm: 216.55, NNZs: 7, Bias: 0.000000, T: 591068, Avg. loss: 0.740287\n",
      "Total training time: 0.42 seconds.\n",
      "-- Epoch 5\n",
      "Norm: 216.60, NNZs: 8, Bias: 0.000000, T: 738835, Avg. loss: 0.730956\n",
      "Total training time: 0.53 seconds.\n",
      "(26077, 2)\n",
      "(26077,)\n",
      "('Score', 0.69314718055994518)\n"
     ]
    }
   ],
   "source": [
    "best_model.fit(x_train, y_train)\n",
    "y_predict = best_model.predict_log_proba(x_test)\n",
    "print(y_predict.shape)\n",
    "print(y_test.shape)\n",
    "print(\"Score\", ll(y_test, y_predict))"
   ]
  },
  {
   "cell_type": "code",
   "execution_count": 7,
   "metadata": {},
   "outputs": [
    {
     "name": "stdout",
     "output_type": "stream",
     "text": [
      "Predicting...\n",
      "Writing predictions to predictions.csv\n"
     ]
    }
   ],
   "source": [
    "#Create Predictions and put in csv ready for submission\n",
    "\n",
    "print(\"Predicting...\")\n",
    "# Your trained model is now used to make predictions on the numerai_tournament_data\n",
    "# The model returns two columns: [probability of 0, probability of 1]\n",
    "# We are just interested in the probability that the target is 1.\n",
    "y_prediction = best_model.predict_proba(x_prediction)\n",
    "results = y_prediction[:, 1]\n",
    "results_df = pd.DataFrame(data={'probability':results})\n",
    "joined = pd.DataFrame(t_id).join(results_df)\n",
    "\n",
    "print(\"Writing predictions to predictions.csv\")\n",
    "# Save the predictions out to a CSV file\n",
    "joined.to_csv(\"predictions.csv\", index=False)\n",
    "# Now you can upload these predictions on numer.ai"
   ]
  },
  {
   "cell_type": "code",
   "execution_count": null,
   "metadata": {
    "collapsed": true
   },
   "outputs": [],
   "source": []
  }
 ],
 "metadata": {
  "kernelspec": {
   "display_name": "Python 2",
   "language": "python",
   "name": "python2"
  },
  "language_info": {
   "codemirror_mode": {
    "name": "ipython",
    "version": 2
   },
   "file_extension": ".py",
   "mimetype": "text/x-python",
   "name": "python",
   "nbconvert_exporter": "python",
   "pygments_lexer": "ipython2",
   "version": "2.7.13"
  }
 },
 "nbformat": 4,
 "nbformat_minor": 2
}
